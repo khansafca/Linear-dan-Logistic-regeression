{
  "nbformat": 4,
  "nbformat_minor": 0,
  "metadata": {
    "colab": {
      "provenance": []
    },
    "kernelspec": {
      "name": "python3",
      "display_name": "Python 3"
    },
    "language_info": {
      "name": "python"
    }
  },
  "cells": [
    {
      "cell_type": "markdown",
      "source": [
        "### **Nama : Khansa Farras Callista**\n",
        "### **NIM : 1306621067**\n",
        "### **Kelas : Fisika B**\n",
        "### ***Machine Learning - Tugas 2 Regresi Data***"
      ],
      "metadata": {
        "id": "WC0c9mY5BGrE"
      }
    },
    {
      "cell_type": "markdown",
      "source": [
        "# Data Splitting"
      ],
      "metadata": {
        "id": "9cUxVnSeBNfr"
      }
    },
    {
      "cell_type": "code",
      "execution_count": 133,
      "metadata": {
        "id": "f0UPfRq5_2-n"
      },
      "outputs": [],
      "source": [
        "import pandas as pd\n",
        "import numpy as np\n",
        "from sklearn.model_selection import train_test_split\n",
        "import matplotlib.pyplot as plt"
      ]
    },
    {
      "cell_type": "code",
      "source": [
        "dt = np.loadtxt(\"datatrain2d40c2.txt\", delimiter=',')\n",
        "dt"
      ],
      "metadata": {
        "colab": {
          "base_uri": "https://localhost:8080/"
        },
        "id": "3JPbnBibB3lW",
        "outputId": "87367fdd-af6a-40d8-9e25-fbbcb63a9a69"
      },
      "execution_count": 134,
      "outputs": [
        {
          "output_type": "execute_result",
          "data": {
            "text/plain": [
              "array([[34.62365962, 78.02469282,  0.        ],\n",
              "       [30.28671077, 43.89499752,  0.        ],\n",
              "       [35.84740877, 72.90219803,  0.        ],\n",
              "       [60.18259939, 86.3085521 ,  1.        ],\n",
              "       [79.03273605, 75.34437644,  1.        ],\n",
              "       [45.08327748, 56.31637178,  0.        ],\n",
              "       [61.10666454, 96.51142588,  1.        ],\n",
              "       [75.02474557, 46.55401354,  1.        ],\n",
              "       [76.0987867 , 87.42056972,  1.        ],\n",
              "       [84.43281996, 43.53339331,  1.        ],\n",
              "       [95.86155507, 38.22527806,  0.        ],\n",
              "       [75.01365839, 30.60326323,  0.        ],\n",
              "       [82.30705337, 76.4819633 ,  1.        ],\n",
              "       [69.36458876, 97.71869196,  1.        ],\n",
              "       [39.53833914, 76.03681085,  0.        ],\n",
              "       [53.97105215, 89.20735014,  1.        ],\n",
              "       [69.07014406, 52.74046973,  1.        ],\n",
              "       [67.94685548, 46.67857411,  0.        ],\n",
              "       [70.66150955, 92.92713789,  1.        ],\n",
              "       [76.97878373, 47.57596365,  1.        ],\n",
              "       [67.37202755, 42.83843832,  0.        ],\n",
              "       [89.67677575, 65.79936593,  1.        ],\n",
              "       [50.53478829, 48.85581153,  0.        ],\n",
              "       [34.21206098, 44.2095286 ,  0.        ],\n",
              "       [77.92409145, 68.97235999,  1.        ],\n",
              "       [62.27101367, 69.95445795,  1.        ],\n",
              "       [80.19018075, 44.82162893,  1.        ],\n",
              "       [93.1143888 , 38.80067034,  0.        ],\n",
              "       [61.83020602, 50.25610789,  0.        ],\n",
              "       [38.7858038 , 64.99568096,  0.        ],\n",
              "       [61.37928945, 72.80788731,  1.        ],\n",
              "       [85.40451939, 57.05198398,  1.        ],\n",
              "       [52.10797973, 63.12762377,  0.        ],\n",
              "       [52.04540477, 69.43286012,  1.        ],\n",
              "       [40.23689374, 71.16774802,  0.        ],\n",
              "       [54.63510555, 52.21388588,  0.        ],\n",
              "       [33.91550011, 98.86943574,  0.        ],\n",
              "       [64.17698887, 80.90806059,  1.        ],\n",
              "       [74.78925296, 41.57341523,  0.        ],\n",
              "       [34.18364003, 75.23772034,  0.        ]])"
            ]
          },
          "metadata": {},
          "execution_count": 134
        }
      ]
    },
    {
      "cell_type": "code",
      "source": [
        "# melakukan pengacakan\n",
        "np.random.shuffle(dt)\n",
        "\n",
        "print(dt)"
      ],
      "metadata": {
        "colab": {
          "base_uri": "https://localhost:8080/"
        },
        "id": "Yd5HmCtpB6lt",
        "outputId": "34d32b1d-bf41-40a0-cddd-925b8f484036"
      },
      "execution_count": 135,
      "outputs": [
        {
          "output_type": "stream",
          "name": "stdout",
          "text": [
            "[[67.37202755 42.83843832  0.        ]\n",
            " [62.27101367 69.95445795  1.        ]\n",
            " [75.01365839 30.60326323  0.        ]\n",
            " [84.43281996 43.53339331  1.        ]\n",
            " [34.18364003 75.23772034  0.        ]\n",
            " [67.94685548 46.67857411  0.        ]\n",
            " [74.78925296 41.57341523  0.        ]\n",
            " [69.36458876 97.71869196  1.        ]\n",
            " [85.40451939 57.05198398  1.        ]\n",
            " [64.17698887 80.90806059  1.        ]\n",
            " [35.84740877 72.90219803  0.        ]\n",
            " [70.66150955 92.92713789  1.        ]\n",
            " [30.28671077 43.89499752  0.        ]\n",
            " [69.07014406 52.74046973  1.        ]\n",
            " [39.53833914 76.03681085  0.        ]\n",
            " [52.04540477 69.43286012  1.        ]\n",
            " [79.03273605 75.34437644  1.        ]\n",
            " [53.97105215 89.20735014  1.        ]\n",
            " [54.63510555 52.21388588  0.        ]\n",
            " [61.37928945 72.80788731  1.        ]\n",
            " [76.97878373 47.57596365  1.        ]\n",
            " [50.53478829 48.85581153  0.        ]\n",
            " [61.83020602 50.25610789  0.        ]\n",
            " [38.7858038  64.99568096  0.        ]\n",
            " [34.21206098 44.2095286   0.        ]\n",
            " [75.02474557 46.55401354  1.        ]\n",
            " [93.1143888  38.80067034  0.        ]\n",
            " [60.18259939 86.3085521   1.        ]\n",
            " [52.10797973 63.12762377  0.        ]\n",
            " [89.67677575 65.79936593  1.        ]\n",
            " [95.86155507 38.22527806  0.        ]\n",
            " [76.0987867  87.42056972  1.        ]\n",
            " [40.23689374 71.16774802  0.        ]\n",
            " [80.19018075 44.82162893  1.        ]\n",
            " [61.10666454 96.51142588  1.        ]\n",
            " [33.91550011 98.86943574  0.        ]\n",
            " [77.92409145 68.97235999  1.        ]\n",
            " [34.62365962 78.02469282  0.        ]\n",
            " [82.30705337 76.4819633   1.        ]\n",
            " [45.08327748 56.31637178  0.        ]]\n"
          ]
        }
      ]
    },
    {
      "cell_type": "code",
      "source": [
        "X = dt[:, [0, 1]]\n",
        "y = dt[:, 2]"
      ],
      "metadata": {
        "id": "nN_QpJWu0KAh"
      },
      "execution_count": 136,
      "outputs": []
    },
    {
      "cell_type": "code",
      "source": [
        "#Split dataset into train and test dataset\n",
        "#using ratio 40% for test dataset and 60% for training dataset\n",
        "x_train, x_test, y_train, y_test = train_test_split(X, y, test_size=0.4, random_state=42)"
      ],
      "metadata": {
        "id": "6k3g-IFg1ZtC"
      },
      "execution_count": 137,
      "outputs": []
    },
    {
      "cell_type": "code",
      "source": [
        "x_train, y_train"
      ],
      "metadata": {
        "colab": {
          "base_uri": "https://localhost:8080/"
        },
        "id": "lHR7XfLR3Tm8",
        "outputId": "56629cd7-6e3f-408f-b58f-51d4a2f86905"
      },
      "execution_count": 138,
      "outputs": [
        {
          "output_type": "execute_result",
          "data": {
            "text/plain": [
              "(array([[53.97105215, 89.20735014],\n",
              "        [34.21206098, 44.2095286 ],\n",
              "        [67.37202755, 42.83843832],\n",
              "        [80.19018075, 44.82162893],\n",
              "        [67.94685548, 46.67857411],\n",
              "        [70.66150955, 92.92713789],\n",
              "        [62.27101367, 69.95445795],\n",
              "        [89.67677575, 65.79936593],\n",
              "        [50.53478829, 48.85581153],\n",
              "        [75.01365839, 30.60326323],\n",
              "        [95.86155507, 38.22527806],\n",
              "        [77.92409145, 68.97235999],\n",
              "        [84.43281996, 43.53339331],\n",
              "        [33.91550011, 98.86943574],\n",
              "        [38.7858038 , 64.99568096],\n",
              "        [40.23689374, 71.16774802],\n",
              "        [35.84740877, 72.90219803],\n",
              "        [61.83020602, 50.25610789],\n",
              "        [54.63510555, 52.21388588],\n",
              "        [76.97878373, 47.57596365],\n",
              "        [69.36458876, 97.71869196],\n",
              "        [39.53833914, 76.03681085],\n",
              "        [52.10797973, 63.12762377],\n",
              "        [82.30705337, 76.4819633 ]]),\n",
              " array([1., 0., 0., 1., 0., 1., 1., 1., 0., 0., 0., 1., 1., 0., 0., 0., 0.,\n",
              "        0., 0., 1., 1., 0., 0., 1.]))"
            ]
          },
          "metadata": {},
          "execution_count": 138
        }
      ]
    },
    {
      "cell_type": "code",
      "source": [
        "x_test, y_test"
      ],
      "metadata": {
        "colab": {
          "base_uri": "https://localhost:8080/"
        },
        "id": "VXwKKiCG3YJj",
        "outputId": "253ec27d-33f6-4ca3-8f1d-806c7997a6a6"
      },
      "execution_count": 139,
      "outputs": [
        {
          "output_type": "execute_result",
          "data": {
            "text/plain": [
              "(array([[61.37928945, 72.80788731],\n",
              "        [79.03273605, 75.34437644],\n",
              "        [52.04540477, 69.43286012],\n",
              "        [93.1143888 , 38.80067034],\n",
              "        [34.18364003, 75.23772034],\n",
              "        [30.28671077, 43.89499752],\n",
              "        [34.62365962, 78.02469282],\n",
              "        [60.18259939, 86.3085521 ],\n",
              "        [45.08327748, 56.31637178],\n",
              "        [74.78925296, 41.57341523],\n",
              "        [75.02474557, 46.55401354],\n",
              "        [64.17698887, 80.90806059],\n",
              "        [69.07014406, 52.74046973],\n",
              "        [76.0987867 , 87.42056972],\n",
              "        [61.10666454, 96.51142588],\n",
              "        [85.40451939, 57.05198398]]),\n",
              " array([1., 1., 1., 0., 0., 0., 0., 1., 0., 0., 1., 1., 1., 1., 1., 1.]))"
            ]
          },
          "metadata": {},
          "execution_count": 139
        }
      ]
    },
    {
      "cell_type": "markdown",
      "source": [
        "# Visualisasi Data"
      ],
      "metadata": {
        "id": "2iLGGyr2sYJj"
      }
    },
    {
      "cell_type": "code",
      "source": [
        "plt.figure()\n",
        "plt.scatter(X[y == 1][:, 0], X[y == 1][:, 1], marker = '+', label=\"Admitted\")\n",
        "plt.scatter(X[y == 0][:, 0], X[y == 0][:, 1], label=\"Not admitted\")\n",
        "plt.xlabel(\"Exam 1 score\")\n",
        "plt.ylabel(\"Exam 2 score\")\n",
        "plt.legend()\n",
        "plt.show()"
      ],
      "metadata": {
        "colab": {
          "base_uri": "https://localhost:8080/",
          "height": 449
        },
        "id": "E3yNcRo9sqmW",
        "outputId": "dff8ba3d-36bb-4885-b4a4-d582c30f3400"
      },
      "execution_count": 140,
      "outputs": [
        {
          "output_type": "display_data",
          "data": {
            "text/plain": [
              "<Figure size 640x480 with 1 Axes>"
            ],
            "image/png": "[encoded data removed]"
          },
          "metadata": {}
        }
      ]
    },
    {
      "cell_type": "markdown",
      "source": [
        "# Modeling"
      ],
      "metadata": {
        "id": "CMlqaXxzswGB"
      }
    },
    {
      "cell_type": "code",
      "source": [
        "from sklearn.linear_model import LogisticRegression\n",
        "\n",
        "model = LogisticRegression()\n",
        "model.fit(x_train, y_train)"
      ],
      "metadata": {
        "colab": {
          "base_uri": "https://localhost:8080/",
          "height": 74
        },
        "id": "pyzxBnxn3Sz4",
        "outputId": "2ecf0187-5a0f-45cd-aecb-3006e07f08c9"
      },
      "execution_count": 141,
      "outputs": [
        {
          "output_type": "execute_result",
          "data": {
            "text/plain": [
              "LogisticRegression()"
            ],
            "text/html": [
              "<style>#sk-container-id-4 {color: black;background-color: white;}#sk-container-id-4 pre{padding: 0;}#sk-container-id-4 div.sk-toggleable {background-color: white;}#sk-container-id-4 label.sk-toggleable__label {cursor: pointer;display: block;width: 100%;margin-bottom: 0;padding: 0.3em;box-sizing: border-box;text-align: center;}#sk-container-id-4 label.sk-toggleable__label-arrow:before {content: \"▸\";float: left;margin-right: 0.25em;color: #696969;}#sk-container-id-4 label.sk-toggleable__label-arrow:hover:before {color: black;}#sk-container-id-4 div.sk-estimator:hover label.sk-toggleable__label-arrow:before {color: black;}#sk-container-id-4 div.sk-toggleable__content {max-height: 0;max-width: 0;overflow: hidden;text-align: left;background-color: #f0f8ff;}#sk-container-id-4 div.sk-toggleable__content pre {margin: 0.2em;color: black;border-radius: 0.25em;background-color: #f0f8ff;}#sk-container-id-4 input.sk-toggleable__control:checked~div.sk-toggleable__content {max-height: 200px;max-width: 100%;overflow: auto;}#sk-container-id-4 input.sk-toggleable__control:checked~label.sk-toggleable__label-arrow:before {content: \"▾\";}#sk-container-id-4 div.sk-estimator input.sk-toggleable__control:checked~label.sk-toggleable__label {background-color: #d4ebff;}#sk-container-id-4 div.sk-label input.sk-toggleable__control:checked~label.sk-toggleable__label {background-color: #d4ebff;}#sk-container-id-4 input.sk-hidden--visually {border: 0;clip: rect(1px 1px 1px 1px);clip: rect(1px, 1px, 1px, 1px);height: 1px;margin: -1px;overflow: hidden;padding: 0;position: absolute;width: 1px;}#sk-container-id-4 div.sk-estimator {font-family: monospace;background-color: #f0f8ff;border: 1px dotted black;border-radius: 0.25em;box-sizing: border-box;margin-bottom: 0.5em;}#sk-container-id-4 div.sk-estimator:hover {background-color: #d4ebff;}#sk-container-id-4 div.sk-parallel-item::after {content: \"\";width: 100%;border-bottom: 1px solid gray;flex-grow: 1;}#sk-container-id-4 div.sk-label:hover label.sk-toggleable__label {background-color: #d4ebff;}#sk-container-id-4 div.sk-serial::before {content: \"\";position: absolute;border-left: 1px solid gray;box-sizing: border-box;top: 0;bottom: 0;left: 50%;z-index: 0;}#sk-container-id-4 div.sk-serial {display: flex;flex-direction: column;align-items: center;background-color: white;padding-right: 0.2em;padding-left: 0.2em;position: relative;}#sk-container-id-4 div.sk-item {position: relative;z-index: 1;}#sk-container-id-4 div.sk-parallel {display: flex;align-items: stretch;justify-content: center;background-color: white;position: relative;}#sk-container-id-4 div.sk-item::before, #sk-container-id-4 div.sk-parallel-item::before {content: \"\";position: absolute;border-left: 1px solid gray;box-sizing: border-box;top: 0;bottom: 0;left: 50%;z-index: -1;}#sk-container-id-4 div.sk-parallel-item {display: flex;flex-direction: column;z-index: 1;position: relative;background-color: white;}#sk-container-id-4 div.sk-parallel-item:first-child::after {align-self: flex-end;width: 50%;}#sk-container-id-4 div.sk-parallel-item:last-child::after {align-self: flex-start;width: 50%;}#sk-container-id-4 div.sk-parallel-item:only-child::after {width: 0;}#sk-container-id-4 div.sk-dashed-wrapped {border: 1px dashed gray;margin: 0 0.4em 0.5em 0.4em;box-sizing: border-box;padding-bottom: 0.4em;background-color: white;}#sk-container-id-4 div.sk-label label {font-family: monospace;font-weight: bold;display: inline-block;line-height: 1.2em;}#sk-container-id-4 div.sk-label-container {text-align: center;}#sk-container-id-4 div.sk-container {/* jupyter's `normalize.less` sets `[hidden] { display: none; }` but bootstrap.min.css set `[hidden] { display: none !important; }` so we also need the `!important` here to be able to override the default hidden behavior on the sphinx rendered scikit-learn.org. See: https://github.com/scikit-learn/scikit-learn/issues/21755 */display: inline-block !important;position: relative;}#sk-container-id-4 div.sk-text-repr-fallback {display: none;}</style><div id=\"sk-container-id-4\" class=\"sk-top-container\"><div class=\"sk-text-repr-fallback\"><pre>LogisticRegression()</pre><b>In a Jupyter environment, please rerun this cell to show the HTML representation or trust the notebook. <br />On GitHub, the HTML representation is unable to render, please try loading this page with nbviewer.org.</b></div><div class=\"sk-container\" hidden><div class=\"sk-item\"><div class=\"sk-estimator sk-toggleable\"><input class=\"sk-toggleable__control sk-hidden--visually\" id=\"sk-estimator-id-4\" type=\"checkbox\" checked><label for=\"sk-estimator-id-4\" class=\"sk-toggleable__label sk-toggleable__label-arrow\">LogisticRegression</label><div class=\"sk-toggleable__content\"><pre>LogisticRegression()</pre></div></div></div></div></div>"
            ]
          },
          "metadata": {},
          "execution_count": 141
        }
      ]
    },
    {
      "cell_type": "code",
      "source": [
        "print(model.coef_)"
      ],
      "metadata": {
        "colab": {
          "base_uri": "https://localhost:8080/"
        },
        "id": "R24xMnP94mSl",
        "outputId": "2d347636-7aff-4816-fcd6-80d64fa8d18f"
      },
      "execution_count": 142,
      "outputs": [
        {
          "output_type": "stream",
          "name": "stdout",
          "text": [
            "[[0.21503321 0.16692276]]\n"
          ]
        }
      ]
    },
    {
      "cell_type": "code",
      "source": [
        "model.score(x_train, y_train)"
      ],
      "metadata": {
        "colab": {
          "base_uri": "https://localhost:8080/"
        },
        "id": "FtlPhr4vCQlW",
        "outputId": "8c3c2b48-0cdd-44da-c895-8b70292d3fe3"
      },
      "execution_count": 143,
      "outputs": [
        {
          "output_type": "execute_result",
          "data": {
            "text/plain": [
              "0.9583333333333334"
            ]
          },
          "metadata": {},
          "execution_count": 143
        }
      ]
    },
    {
      "cell_type": "markdown",
      "source": [
        "# Evalusi model"
      ],
      "metadata": {
        "id": "QFZ81xiYEfch"
      }
    },
    {
      "cell_type": "markdown",
      "source": [
        "Lakukan tes awal, berapa prosen probabilitas seorang siswa lulus ujian jika\n",
        "memperoleh nilai ujia1 = 60 dan ujian2 = 58 ?"
      ],
      "metadata": {
        "id": "hsKNuze6EsNh"
      }
    },
    {
      "cell_type": "code",
      "source": [
        "# Memprediksi probabilitas lulus (kelas 1) untuk ujian1 = 60 dan ujian2 = 58\n",
        "probabilitas_lulus = model.predict_proba([[60, 58]])[:, 1]\n",
        "\n",
        "# Mencetak probabilitas lulus\n",
        "print(\"Probabilitas lulus:\", probabilitas_lulus[0])"
      ],
      "metadata": {
        "colab": {
          "base_uri": "https://localhost:8080/"
        },
        "id": "Yy5rZmKq8Cp5",
        "outputId": "a34a5b53-e909-4d1a-e88d-1a6174d23571"
      },
      "execution_count": 150,
      "outputs": [
        {
          "output_type": "stream",
          "name": "stdout",
          "text": [
            "Probabilitas lulus: 0.13355459582747087\n"
          ]
        }
      ]
    },
    {
      "cell_type": "code",
      "source": [
        "# Memasukkan nilai ujian1 dan ujian2\n",
        "nilai_ujian1 = 60\n",
        "nilai_ujian2 = 58\n",
        "\n",
        "# Menentukan apakah siswa lulus (1) atau tidak (0) menggunakan model\n",
        "hasil_prediksi = model.predict([[nilai_ujian1, nilai_ujian2]])\n",
        "\n",
        "# Menghitung probabilitas lulus (1) dari model\n",
        "probabilitas_lulus = model.predict_proba([[nilai_ujian1, nilai_ujian2]])[0][1] * 100  # Dalam persen\n",
        "\n",
        "print(f\"Hasil Prediksi: {'Lulus' if hasil_prediksi[0] == 1 else 'Tidak Lulus'}\")\n",
        "print(f\"Probabilitas Lulus: {probabilitas_lulus:.2f}%\")"
      ],
      "metadata": {
        "colab": {
          "base_uri": "https://localhost:8080/"
        },
        "id": "Xk3YNs9d8M2U",
        "outputId": "869b1ca9-2f04-4c89-c1a6-a43ba81d6a1c"
      },
      "execution_count": 151,
      "outputs": [
        {
          "output_type": "stream",
          "name": "stdout",
          "text": [
            "Hasil Prediksi: Tidak Lulus\n",
            "Probabilitas Lulus: 13.36%\n"
          ]
        }
      ]
    },
    {
      "cell_type": "markdown",
      "source": [
        "Ujilah model dengan data_train, hitunglah berapa akurasi model?"
      ],
      "metadata": {
        "id": "cHORm6gbFyVM"
      }
    },
    {
      "cell_type": "code",
      "source": [
        "pred = model.predict(x_train)\n",
        "pred"
      ],
      "metadata": {
        "colab": {
          "base_uri": "https://localhost:8080/"
        },
        "id": "eut5cfRyCaba",
        "outputId": "791124a1-b843-4d5c-c89c-46e98428550c"
      },
      "execution_count": 163,
      "outputs": [
        {
          "output_type": "execute_result",
          "data": {
            "text/plain": [
              "array([1., 0., 0., 1., 0., 1., 1., 1., 0., 0., 1., 1., 1., 0., 0., 0., 0.,\n",
              "       0., 0., 1., 1., 0., 0., 1.])"
            ]
          },
          "metadata": {},
          "execution_count": 163
        }
      ]
    },
    {
      "cell_type": "code",
      "source": [
        "import sklearn.metrics as sm\n",
        "accuracy = sm.accuracy_score(y_train, pred)\n",
        "accuracy"
      ],
      "metadata": {
        "colab": {
          "base_uri": "https://localhost:8080/"
        },
        "id": "7TWWd-6T5Mg_",
        "outputId": "803ad3ed-8a6f-43ce-d983-ac0343adba9a"
      },
      "execution_count": 164,
      "outputs": [
        {
          "output_type": "execute_result",
          "data": {
            "text/plain": [
              "0.9583333333333334"
            ]
          },
          "metadata": {},
          "execution_count": 164
        }
      ]
    },
    {
      "cell_type": "code",
      "source": [
        "akurasi = accuracy_score(y_train, pred)*100\n",
        "\n",
        "print(\"Akurasi Model pada Data Train:\", akurasi,\"%\")"
      ],
      "metadata": {
        "colab": {
          "base_uri": "https://localhost:8080/"
        },
        "id": "_AG02mUd8YQB",
        "outputId": "5236c725-a92c-4f30-b931-6a63cdbda1d9"
      },
      "execution_count": 165,
      "outputs": [
        {
          "output_type": "stream",
          "name": "stdout",
          "text": [
            "Akurasi Model pada Data Train: 95.83333333333334 %\n"
          ]
        }
      ]
    },
    {
      "cell_type": "markdown",
      "source": [
        "Plot data_train bersama batas keputusan (decision boundary)."
      ],
      "metadata": {
        "id": "KYfO5fPbF3HK"
      }
    },
    {
      "cell_type": "code",
      "source": [
        "from scipy import optimize"
      ],
      "metadata": {
        "id": "hN0FTxnrGqXY"
      },
      "execution_count": 166,
      "outputs": []
    },
    {
      "cell_type": "code",
      "source": [
        "def cost(theta, X, y):\n",
        "    h = sigmoid(np.dot(X, theta))\n",
        "    J = - (np.dot(y, np.log(h)) + np.dot(1 - y, np.log(1 - h))) / X.shape[0]\n",
        "    return J\n",
        "\n",
        "\n",
        "def gradient(theta, X, y):\n",
        "    h = sigmoid(np.dot(X, theta))\n",
        "    grad = np.dot(X.T, h - y) / X.shape[0]\n",
        "    return grad\n",
        "\n",
        "\n",
        "X_train = np.hstack((np.ones((X.shape[0], 1)), X))\n",
        "theta = np.array([0, 0, 0])\n",
        "res = optimize.minimize(fun=cost, x0=theta, args=(X_train, y),\n",
        "                        method='Newton-CG', jac=gradient)\n",
        "print(res.fun)\n",
        "print(res.x)"
      ],
      "metadata": {
        "colab": {
          "base_uri": "https://localhost:8080/"
        },
        "id": "Tst-jbB8GejQ",
        "outputId": "fa7af4de-3874-4126-d674-d85e72fb139d"
      },
      "execution_count": 167,
      "outputs": [
        {
          "output_type": "stream",
          "name": "stdout",
          "text": [
            "0.2904471347102005\n",
            "[-20.7271658    0.17326242   0.15842205]\n"
          ]
        }
      ]
    },
    {
      "cell_type": "code",
      "source": [
        "def plotDecisionBoundary(theta, X, y):\n",
        "    x_min, x_max = X[:, 0].min() - 1, X[:, 0].max() + 1\n",
        "    y_min, y_max = X[:, 1].min() - 1, X[:, 1].max() + 1\n",
        "    xx, yy = np.meshgrid(np.arange(x_min, x_max, 0.1),\n",
        "                         np.arange(y_min, y_max, 0.1))\n",
        "    X_plot = np.c_[xx.ravel(), yy.ravel()]\n",
        "    X_plot = np.hstack((np.ones((X_plot.shape[0], 1)), X_plot))\n",
        "    y_plot = np.dot(X_plot, theta).reshape(xx.shape)\n",
        "\n",
        "    plt.figure()\n",
        "    plt.scatter(X[y == 1][:, 0], X[y == 1][:, 1], marker = '+', label=\"Admitted\")\n",
        "    plt.scatter(X[y == 0][:, 0], X[y == 0][:, 1], label=\"Not admitted\")\n",
        "    plt.contour(xx, yy, y_plot, levels=[0])\n",
        "    plt.xlabel(\"Exam 1 score\")\n",
        "    plt.ylabel(\"Exam 2 score\")\n",
        "    plt.legend()\n",
        "    plt.show()"
      ],
      "metadata": {
        "id": "a0gpFGeoGh1Q"
      },
      "execution_count": 168,
      "outputs": []
    },
    {
      "cell_type": "code",
      "source": [
        "plotDecisionBoundary(res.x, X, y)"
      ],
      "metadata": {
        "colab": {
          "base_uri": "https://localhost:8080/",
          "height": 449
        },
        "id": "-Jv0pwdcv7jQ",
        "outputId": "96e253d5-7e99-4ac5-b545-a78b92a9c496"
      },
      "execution_count": 169,
      "outputs": [
        {
          "output_type": "display_data",
          "data": {
            "text/plain": [
              "<Figure size 640x480 with 1 Axes>"
            ],
            "image/png": "[encoded data removed]"
          },
          "metadata": {}
        }
      ]
    },
    {
      "cell_type": "markdown",
      "source": [
        "Lakukan evaluasi kinerja model anda dengan data_test. Untuk memudahkan\n",
        "analisis buatlah confusion matrix. Dari matriks tersebut berapa akurasi model\n",
        "anda?"
      ],
      "metadata": {
        "id": "0Fw_rdg9KS02"
      }
    },
    {
      "cell_type": "code",
      "source": [
        "pred1 = model.predict(x_test)"
      ],
      "metadata": {
        "id": "U5JQN_FDMZ46"
      },
      "execution_count": 181,
      "outputs": []
    },
    {
      "cell_type": "code",
      "source": [
        "from sklearn.metrics import confusion_matrix as cm\n",
        "conf = cm(y_test, pred)\n",
        "df_confMatrix = pd.DataFrame(conf, columns=['predict Negative','predict Positive'], index = ['True Negative','True Positive'])\n",
        "print(df_confMatrix)"
      ],
      "metadata": {
        "colab": {
          "base_uri": "https://localhost:8080/"
        },
        "id": "TexVoMgnMLX1",
        "outputId": "3ac62a4b-926d-4184-a3f2-bd497344651f"
      },
      "execution_count": 182,
      "outputs": [
        {
          "output_type": "stream",
          "name": "stdout",
          "text": [
            "               predict Negative  predict Positive\n",
            "True Negative                 5                 1\n",
            "True Positive                 3                 7\n"
          ]
        }
      ]
    },
    {
      "cell_type": "code",
      "source": [
        "from sklearn.metrics import classification_report as cr\n",
        "print(cr(y_test, pred))"
      ],
      "metadata": {
        "colab": {
          "base_uri": "https://localhost:8080/"
        },
        "id": "VrfLi7ttMM65",
        "outputId": "85f5931e-31e2-48bb-e64f-b7bda2393acb"
      },
      "execution_count": 183,
      "outputs": [
        {
          "output_type": "stream",
          "name": "stdout",
          "text": [
            "              precision    recall  f1-score   support\n",
            "\n",
            "         0.0       0.62      0.83      0.71         6\n",
            "         1.0       0.88      0.70      0.78        10\n",
            "\n",
            "    accuracy                           0.75        16\n",
            "   macro avg       0.75      0.77      0.75        16\n",
            "weighted avg       0.78      0.75      0.75        16\n",
            "\n"
          ]
        }
      ]
    },
    {
      "cell_type": "code",
      "source": [
        "from sklearn.metrics import confusion_matrix,accuracy_score\n",
        "# Replace 'y_true' with your true labels and 'y_pred' with your predicted labels\n",
        "conf_matrix = confusion_matrix(y_test, pred)"
      ],
      "metadata": {
        "id": "zT8DiCO1KV7W"
      },
      "execution_count": 184,
      "outputs": []
    },
    {
      "cell_type": "code",
      "source": [
        "# Create a Seaborn heatmap for the confusion matrix\n",
        "sns.heatmap(conf_matrix, annot=True, fmt='d', cmap='Blues', square=True, cbar=False)\n",
        "plt.xlabel('Predicted')\n",
        "plt.ylabel('True')\n",
        "plt.title('Confusion Matrix')\n",
        "plt.show()"
      ],
      "metadata": {
        "colab": {
          "base_uri": "https://localhost:8080/",
          "height": 472
        },
        "id": "S0lFu4SkMoWk",
        "outputId": "6acb32be-dcc4-4221-d14a-6bceb3c44983"
      },
      "execution_count": 185,
      "outputs": [
        {
          "output_type": "display_data",
          "data": {
            "text/plain": [
              "<Figure size 640x480 with 1 Axes>"
            ],
            "image/png": "[encoded data removed]"
          },
          "metadata": {}
        }
      ]
    },
    {
      "cell_type": "markdown",
      "source": [
        "Tuliskan hasil analisis anda, apakah model anda mengalami overfitting?"
      ],
      "metadata": {
        "id": "LqrhloA0TSDE"
      }
    },
    {
      "cell_type": "code",
      "source": [
        "# mengecek Train set dan test set score\n",
        "\n",
        "print('Train set score: {:.4f}'.format(model.score(x_train, y_train)))\n",
        "\n",
        "print('Test set score: {:.4f}'.format(model.score(x_test, y_test)))"
      ],
      "metadata": {
        "colab": {
          "base_uri": "https://localhost:8080/"
        },
        "id": "a27See2HsIoH",
        "outputId": "10cdaac4-f036-4c6a-9104-078d2a5797ab"
      },
      "execution_count": 190,
      "outputs": [
        {
          "output_type": "stream",
          "name": "stdout",
          "text": [
            "Train set score: 0.9583\n",
            "Test set score: 0.7500\n"
          ]
        }
      ]
    },
    {
      "cell_type": "code",
      "source": [
        "#mengecek dengan confusion matrix\n",
        "#Akurasi  = (True Negative + True Positive) / Total =\n",
        "Akurasi = (5 + 7) / (5 + 1 + 3 + 7)\n",
        "print(\"Akurasi :\", Akurasi)\n",
        "\n",
        "#Presisi (Precision) = True Positive / (True Positive + False Positive)\n",
        "Presisi = 7 / (7 + 1)\n",
        "print(\"Presisi :\", Presisi)\n",
        "\n",
        "#Recall (Sensitivity) = True Positive / (True Positive + False Negative)\n",
        "Recall = 7 / (7 + 3)\n",
        "print(\"Recall :\", Recall)\n",
        "\n",
        "#F1-score = 2 * (Precision * Recall) / (Precision + Recall)\n",
        "F1_score = 2 * (0.875 * 0.7) / (0.875 + 0.7)\n",
        "print(\"F1 score :\", F1_score)"
      ],
      "metadata": {
        "colab": {
          "base_uri": "https://localhost:8080/"
        },
        "id": "zL3Mq-3xVtLz",
        "outputId": "be83dc3a-ea15-47e1-9ba1-0c5fe529855c"
      },
      "execution_count": 192,
      "outputs": [
        {
          "output_type": "stream",
          "name": "stdout",
          "text": [
            "Akurasi : 0.75\n",
            "Presisi : 0.875\n",
            "Recall : 0.7\n",
            "F1 score : 0.7777777777777777\n"
          ]
        }
      ]
    },
    {
      "cell_type": "markdown",
      "source": [
        "Dari hasil diatas terlihat bahwa nilai train set cukup tinggi, tetapi ada perbedaan yang tidak terlalu besar antara nilai train set (0.9583) dan test set (0.75). Selain itu, nilai-nilai presisi, recall, dan F1-score menunjukkan kinerja model yang lebih baik pada memprediksi kelas positif daripada kelas negatif. Ini adalah tanda-tanda yang mengindikasikan potensi overfitting tetapi tidak bisa dikatakan overfitting sepenuhnya"
      ],
      "metadata": {
        "id": "YCa5ySXoL0EC"
      }
    }
  ]
}